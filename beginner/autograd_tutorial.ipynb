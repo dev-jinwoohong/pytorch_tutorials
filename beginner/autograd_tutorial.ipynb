{
 "cells": [
  {
   "cell_type": "markdown",
   "id": "cc91c7b9-3f04-463c-b632-4909d2e2b574",
   "metadata": {},
   "source": [
    "# `TORCH.AUTOGRAD`에 대한 간단한 소개"
   ]
  },
  {
   "cell_type": "code",
   "execution_count": 2,
   "id": "d16c8c59-961a-4a15-88e1-ba09d085763c",
   "metadata": {},
   "outputs": [
    {
     "name": "stderr",
     "output_type": "stream",
     "text": [
      "Downloading: \"https://download.pytorch.org/models/resnet18-f37072fd.pth\" to /Users/jinwoo/.cache/torch/hub/checkpoints/resnet18-f37072fd.pth\n",
      "100.0%\n"
     ]
    }
   ],
   "source": [
    "import torch\n",
    "from torchvision.models import resnet18, ResNet18_Weights\n",
    "model = resnet18(weights=ResNet18_Weights.DEFAULT)\n",
    "data = torch.rand(1, 3, 64, 64)\n",
    "labels = torch.rand(1, 1000)"
   ]
  },
  {
   "cell_type": "markdown",
   "id": "2806a7e0-5b60-49e6-8071-3eb0aa810514",
   "metadata": {},
   "source": [
    "**순전파 단계**"
   ]
  },
  {
   "cell_type": "code",
   "execution_count": 12,
   "id": "79d7dfe9-6dd1-481f-bb0d-a52fc12c2810",
   "metadata": {},
   "outputs": [],
   "source": [
    "prediction = model(data)"
   ]
  },
  {
   "cell_type": "code",
   "execution_count": 13,
   "id": "c68022b9-cc1d-47e7-952b-42bac1e3708e",
   "metadata": {},
   "outputs": [],
   "source": [
    "loss = (prediction - labels).sum()\n",
    "loss.backward() # 역전파 단계 (backward pass)"
   ]
  },
  {
   "cell_type": "code",
   "execution_count": 14,
   "id": "5871258e-c10e-4bdb-b2bd-1318523c1e7d",
   "metadata": {},
   "outputs": [],
   "source": [
    "optim = torch.optim.SGD(model.parameters(), lr=1e-2, momentum=0.9)"
   ]
  },
  {
   "cell_type": "code",
   "execution_count": 15,
   "id": "207932a6-5b88-4cf8-b743-86507e269341",
   "metadata": {},
   "outputs": [],
   "source": [
    "optim.step() # 경사하강법 (gradient descent)"
   ]
  },
  {
   "cell_type": "markdown",
   "id": "d71c5a73-19be-4a06-ba60-23f03502b2bf",
   "metadata": {},
   "source": [
    "## Autograd에서 미분(differentiation)"
   ]
  },
  {
   "cell_type": "code",
   "execution_count": 18,
   "id": "59fe7ae1-1dd7-44b3-b32b-4e314d086eba",
   "metadata": {},
   "outputs": [],
   "source": [
    "import torch\n",
    "\n",
    "a = torch.tensor([2., 3.], requires_grad=True)\n",
    "b = torch.tensor([6., 4.], requires_grad=True)"
   ]
  },
  {
   "cell_type": "code",
   "execution_count": 19,
   "id": "2e8aec0b-9163-454f-b861-9f6a1ebda067",
   "metadata": {},
   "outputs": [],
   "source": [
    "Q = 3*a**3 - b**2"
   ]
  },
  {
   "cell_type": "code",
   "execution_count": 20,
   "id": "32f960a6-cce4-432b-bbdb-7e9cb7bc1666",
   "metadata": {},
   "outputs": [],
   "source": [
    "external_grad = torch.tensor([1., 1.])\n",
    "Q.backward(gradient=external_grad)"
   ]
  },
  {
   "cell_type": "code",
   "execution_count": 21,
   "id": "02a58275-94e9-4975-8520-6f58585ea975",
   "metadata": {},
   "outputs": [
    {
     "name": "stdout",
     "output_type": "stream",
     "text": [
      "tensor([True, True])\n",
      "tensor([True, True])\n"
     ]
    }
   ],
   "source": [
    "# 수집된 변화도가 올바른지 확인\n",
    "print(9*a**2 == a.grad)\n",
    "print(-2*b == b.grad)"
   ]
  },
  {
   "cell_type": "code",
   "execution_count": 23,
   "id": "890d4962-bd3c-4449-9e22-4e90161d9ae7",
   "metadata": {},
   "outputs": [
    {
     "name": "stdout",
     "output_type": "stream",
     "text": [
      "Does `a` require gradients? : False\n",
      "Does `b` require gradients? : True\n"
     ]
    }
   ],
   "source": [
    "x = torch.rand(5, 5)\n",
    "y = torch.rand(5, 5)\n",
    "z = torch.rand((5, 5), requires_grad=True)\n",
    "\n",
    "a = x + y\n",
    "print(f\"Does `a` require gradients? : {a.requires_grad}\")\n",
    "b = x + z\n",
    "print(f\"Does `b` require gradients? : {b.requires_grad}\")"
   ]
  },
  {
   "cell_type": "code",
   "execution_count": 24,
   "id": "b52c62b1-5aef-4c33-9baf-5660ecec79b3",
   "metadata": {},
   "outputs": [],
   "source": [
    "from torch import nn, optim\n",
    "\n",
    "model = resnet18(weights=ResNet18_Weights.DEFAULT)\n",
    "\n",
    "for param in model.parameters():\n",
    "    param.requires_grad = False"
   ]
  },
  {
   "cell_type": "code",
   "execution_count": 26,
   "id": "595da606-5d55-4b4c-b3ed-03504824615c",
   "metadata": {},
   "outputs": [],
   "source": [
    "model.fc = nn.Linear(512, 10)"
   ]
  },
  {
   "cell_type": "code",
   "execution_count": 35,
   "id": "ce8645bf-6895-4ae5-a858-536dd10e8afe",
   "metadata": {},
   "outputs": [],
   "source": [
    "optimizer = optim.SGD(model.parameters(), lr=1e-2, momentum=0.9)"
   ]
  },
  {
   "cell_type": "code",
   "execution_count": null,
   "id": "41ef3ae7-7859-4846-9b31-494c68c9d463",
   "metadata": {},
   "outputs": [],
   "source": []
  }
 ],
 "metadata": {
  "kernelspec": {
   "display_name": "Python 3 (ipykernel)",
   "language": "python",
   "name": "python3"
  },
  "language_info": {
   "codemirror_mode": {
    "name": "ipython",
    "version": 3
   },
   "file_extension": ".py",
   "mimetype": "text/x-python",
   "name": "python",
   "nbconvert_exporter": "python",
   "pygments_lexer": "ipython3",
   "version": "3.11.5"
  }
 },
 "nbformat": 4,
 "nbformat_minor": 5
}
