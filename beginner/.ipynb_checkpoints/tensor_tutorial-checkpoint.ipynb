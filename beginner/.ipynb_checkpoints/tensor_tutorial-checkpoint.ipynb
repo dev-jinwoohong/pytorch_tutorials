{
 "cells": [
  {
   "cell_type": "markdown",
   "id": "06322df5-0212-46bb-9ff2-99325293b605",
   "metadata": {},
   "source": [
    "# 텐서 (Tensor)"
   ]
  },
  {
   "cell_type": "code",
   "execution_count": 2,
   "id": "5e1c70f1-b797-43e8-81ea-56aa7d1b0e37",
   "metadata": {},
   "outputs": [],
   "source": [
    "import torch\n",
    "import numpy as np"
   ]
  },
  {
   "cell_type": "markdown",
   "id": "107d632b-7080-4fc5-8596-11abd1dd29a3",
   "metadata": {},
   "source": [
    "## 텐서 초기화하기\n",
    "\n",
    "**데이터로부터 직접 생성하기**"
   ]
  },
  {
   "cell_type": "code",
   "execution_count": 3,
   "id": "27c3c181-9413-43ea-8c1a-cb59d502271c",
   "metadata": {},
   "outputs": [],
   "source": [
    "data = [[1, 2], [3, 4]]\n",
    "x_data = torch.tensor(data)"
   ]
  },
  {
   "cell_type": "markdown",
   "id": "d70ba3c3-531d-484a-b09f-b8f800340a8e",
   "metadata": {},
   "source": [
    "**Numpy 배열로부터 생성하기**"
   ]
  },
  {
   "cell_type": "code",
   "execution_count": 4,
   "id": "38e1a1f1-4a86-45a0-b782-1bfd75358382",
   "metadata": {},
   "outputs": [],
   "source": [
    "np_array = np.array(data)\n",
    "x_np = torch.from_numpy(np_array)"
   ]
  },
  {
   "cell_type": "markdown",
   "id": "fbf4a88b-6982-4fe5-a8ea-25b74dd29516",
   "metadata": {},
   "source": [
    "**다른 텐서로부터 생성하기**"
   ]
  },
  {
   "cell_type": "code",
   "execution_count": 6,
   "id": "dd7d9d10-e03d-47d1-9e6d-42b34709a032",
   "metadata": {},
   "outputs": [
    {
     "name": "stdout",
     "output_type": "stream",
     "text": [
      "Ones Tensor: \n",
      " tensor([[1, 1],\n",
      "        [1, 1]]) \n",
      "\n",
      "Random Tensor: \n",
      " tensor([[0.1950, 0.4224],\n",
      "        [0.4310, 0.8467]], dtype=torch.float64) \n",
      "\n"
     ]
    }
   ],
   "source": [
    "x_ones = torch.ones_like(x_data) # x_data의 속성을 유지한다.\n",
    "print(f'Ones Tensor: \\n {x_ones} \\n')\n",
    "\n",
    "x_rand = torch.rand_like(x_data, dtype=float) # x_data의 속성을 덮어쓴다.\n",
    "print(f'Random Tensor: \\n {x_rand} \\n')"
   ]
  },
  {
   "cell_type": "markdown",
   "id": "80b78be0-52cb-42d3-91f1-65207a16c480",
   "metadata": {},
   "source": [
    "**무작위(random) 또는 상수(constant) 값을 사용하기**"
   ]
  },
  {
   "cell_type": "code",
   "execution_count": 7,
   "id": "ad24f85d-62a3-436e-8930-607ccd8714a4",
   "metadata": {},
   "outputs": [
    {
     "name": "stdout",
     "output_type": "stream",
     "text": [
      "Random Tensor: \n",
      " tensor([[0.1129, 0.3169, 0.2710],\n",
      "        [0.2696, 0.4977, 0.2336]]) \n",
      "\n",
      "Ones Tensor: \n",
      " tensor([[1., 1., 1.],\n",
      "        [1., 1., 1.]]) \n",
      "\n",
      "Zeros Tensor: \n",
      " tensor([[0., 0., 0.],\n",
      "        [0., 0., 0.]])\n"
     ]
    }
   ],
   "source": [
    "shape = (2, 3,)\n",
    "rand_tensor = torch.rand(shape)\n",
    "ones_tensor = torch.ones(shape)\n",
    "zeros_tensor = torch.zeros(shape)\n",
    "\n",
    "print(f\"Random Tensor: \\n {rand_tensor} \\n\")\n",
    "print(f\"Ones Tensor: \\n {ones_tensor} \\n\")\n",
    "print(f\"Zeros Tensor: \\n {zeros_tensor}\")"
   ]
  },
  {
   "cell_type": "markdown",
   "id": "de38b623-6939-415c-ac0f-76edc4ef32ca",
   "metadata": {},
   "source": [
    "## 텐서의 속성 (Attribute)"
   ]
  },
  {
   "cell_type": "code",
   "execution_count": 8,
   "id": "f0d8f291-27ea-4211-8269-63e03068d8a4",
   "metadata": {},
   "outputs": [
    {
     "name": "stdout",
     "output_type": "stream",
     "text": [
      "Shape of tensor: torch.Size([3, 4])\n",
      "Datatype of tensor: torch.float32\n",
      "Device tensor is stored on: cpu\n"
     ]
    }
   ],
   "source": [
    "tensor = torch.rand(3, 4)\n",
    "\n",
    "print(f\"Shape of tensor: {tensor.shape}\")\n",
    "print(f\"Datatype of tensor: {tensor.dtype}\")\n",
    "print(f\"Device tensor is stored on: {tensor.device}\")"
   ]
  },
  {
   "cell_type": "markdown",
   "id": "d8072247-482b-49c8-be87-c917425c5566",
   "metadata": {},
   "source": [
    "## 텐서 연산 (Operation)"
   ]
  },
  {
   "cell_type": "code",
   "execution_count": 11,
   "id": "c61759e2-8644-4b8c-8ce8-0c3607281310",
   "metadata": {},
   "outputs": [],
   "source": [
    "if torch.cuda.is_available():\n",
    "    tensor = tensor.to('cuda')\n",
    "    print(f'Device tensor is stored op: {tensor.device}')"
   ]
  },
  {
   "cell_type": "code",
   "execution_count": 12,
   "id": "ad8348ef-9104-43d4-a302-9a6f4d31f17e",
   "metadata": {},
   "outputs": [
    {
     "name": "stdout",
     "output_type": "stream",
     "text": [
      "tensor([[1., 0., 1., 1.],\n",
      "        [1., 0., 1., 1.],\n",
      "        [1., 0., 1., 1.],\n",
      "        [1., 0., 1., 1.]])\n"
     ]
    }
   ],
   "source": [
    "tensor = torch.ones(4, 4)\n",
    "tensor[:,1] = 0\n",
    "print(tensor)"
   ]
  },
  {
   "cell_type": "markdown",
   "id": "15c852e3-e5fd-491d-8138-517d5a47c287",
   "metadata": {},
   "source": [
    "**텐서 합치기**"
   ]
  },
  {
   "cell_type": "code",
   "execution_count": 16,
   "id": "60287a34-6d51-4f82-a28a-592b3f189e04",
   "metadata": {},
   "outputs": [
    {
     "name": "stdout",
     "output_type": "stream",
     "text": [
      "tensor([[1., 0., 1., 1., 1., 0., 1., 1., 1., 0., 1., 1.],\n",
      "        [1., 0., 1., 1., 1., 0., 1., 1., 1., 0., 1., 1.],\n",
      "        [1., 0., 1., 1., 1., 0., 1., 1., 1., 0., 1., 1.],\n",
      "        [1., 0., 1., 1., 1., 0., 1., 1., 1., 0., 1., 1.]])\n"
     ]
    }
   ],
   "source": [
    "t1 = torch.cat([tensor, tensor, tensor], dim=1)\n",
    "print(t1)"
   ]
  },
  {
   "cell_type": "code",
   "execution_count": 17,
   "id": "6e765e25-4f1c-4f8d-b342-b116d86a1662",
   "metadata": {},
   "outputs": [
    {
     "name": "stdout",
     "output_type": "stream",
     "text": [
      "torch.Size([3, 4, 4])\n"
     ]
    }
   ],
   "source": [
    "t2 = torch.stack([tensor, tensor, tensor])\n",
    "print(t2.shape)"
   ]
  },
  {
   "cell_type": "markdown",
   "id": "0b300b62-d6f8-4b75-a57f-fde276de7c21",
   "metadata": {},
   "source": [
    "**텐서 곱하기**"
   ]
  },
  {
   "cell_type": "code",
   "execution_count": 18,
   "id": "4cb75792-28fc-4975-a5c8-60752b22a013",
   "metadata": {},
   "outputs": [
    {
     "name": "stdout",
     "output_type": "stream",
     "text": [
      "tensor.mul(tensor) \n",
      " tensor([[1., 0., 1., 1.],\n",
      "        [1., 0., 1., 1.],\n",
      "        [1., 0., 1., 1.],\n",
      "        [1., 0., 1., 1.]]) \n",
      "\n",
      "tensor * tensor \n",
      " tensor([[1., 0., 1., 1.],\n",
      "        [1., 0., 1., 1.],\n",
      "        [1., 0., 1., 1.],\n",
      "        [1., 0., 1., 1.]])\n"
     ]
    }
   ],
   "source": [
    "# element-wise product\n",
    "print(f\"tensor.mul(tensor) \\n {tensor.mul(tensor)} \\n\")\n",
    "# 다른 문법\n",
    "print(f\"tensor * tensor \\n {tensor * tensor}\")"
   ]
  },
  {
   "cell_type": "markdown",
   "id": "de4c8211-b6be-428a-8540-6619e593acf6",
   "metadata": {},
   "source": [
    "**텐서 간의 행렬 곱**"
   ]
  },
  {
   "cell_type": "code",
   "execution_count": 19,
   "id": "62e14688-746f-4e7b-8106-9bf7884ce248",
   "metadata": {},
   "outputs": [
    {
     "name": "stdout",
     "output_type": "stream",
     "text": [
      "tensor.matmul(tensor.T) \n",
      " tensor([[3., 3., 3., 3.],\n",
      "        [3., 3., 3., 3.],\n",
      "        [3., 3., 3., 3.],\n",
      "        [3., 3., 3., 3.]]) \n",
      "\n",
      "tensor @ tensor.T \n",
      " tensor([[3., 3., 3., 3.],\n",
      "        [3., 3., 3., 3.],\n",
      "        [3., 3., 3., 3.],\n",
      "        [3., 3., 3., 3.]])\n"
     ]
    }
   ],
   "source": [
    "print(f\"tensor.matmul(tensor.T) \\n {tensor.matmul(tensor.T)} \\n\")\n",
    "# 다른 문법:\n",
    "print(f\"tensor @ tensor.T \\n {tensor @ tensor.T}\")"
   ]
  },
  {
   "cell_type": "markdown",
   "id": "8330f37f-2b6d-4034-a5dd-20afcbb40b8b",
   "metadata": {},
   "source": [
    "**바꿔치기(in-place) 연산**"
   ]
  },
  {
   "cell_type": "code",
   "execution_count": 20,
   "id": "cb85e2b2-2d81-4858-bd76-3e1b29931658",
   "metadata": {},
   "outputs": [
    {
     "name": "stdout",
     "output_type": "stream",
     "text": [
      "tensor([[1., 0., 1., 1.],\n",
      "        [1., 0., 1., 1.],\n",
      "        [1., 0., 1., 1.],\n",
      "        [1., 0., 1., 1.]]) \n",
      "\n",
      "tensor([[6., 5., 6., 6.],\n",
      "        [6., 5., 6., 6.],\n",
      "        [6., 5., 6., 6.],\n",
      "        [6., 5., 6., 6.]])\n"
     ]
    }
   ],
   "source": [
    "print(tensor, \"\\n\")\n",
    "tensor.add_(5)\n",
    "print(tensor)"
   ]
  },
  {
   "cell_type": "markdown",
   "id": "a3d6db98-7449-4242-88e9-ce1e78faf2a9",
   "metadata": {},
   "source": [
    "> in-place 연산은 메모리를 일부 절약하지만, history가 즉시 삭제되어 derivative 계산에 문제가 발생할 수 있어 사용을 권장하지는 않는다."
   ]
  },
  {
   "cell_type": "markdown",
   "id": "8f30585a-ffa8-481d-a78b-ec5d6dee6f86",
   "metadata": {},
   "source": [
    "## NumPy 변환 (Bridge)"
   ]
  },
  {
   "cell_type": "markdown",
   "id": "0e8578bf-11f0-4ea7-962b-cd5f9dc53e8c",
   "metadata": {},
   "source": [
    "### 텐서를 NumPy 배열로 변환하기"
   ]
  },
  {
   "cell_type": "code",
   "execution_count": 21,
   "id": "827d4a95-6490-4536-b8cf-197a23ae5bfa",
   "metadata": {},
   "outputs": [
    {
     "name": "stdout",
     "output_type": "stream",
     "text": [
      "t: tensor([1., 1., 1., 1., 1.])\n",
      "n: [1. 1. 1. 1. 1.]\n"
     ]
    }
   ],
   "source": [
    "t = torch.ones(5)\n",
    "print(f\"t: {t}\")\n",
    "n = t.numpy()\n",
    "print(f\"n: {n}\")"
   ]
  },
  {
   "cell_type": "code",
   "execution_count": 22,
   "id": "6447df9c-9296-4b39-9ee8-1b46fbcc9da2",
   "metadata": {},
   "outputs": [
    {
     "name": "stdout",
     "output_type": "stream",
     "text": [
      "t: tensor([2., 2., 2., 2., 2.])\n",
      "n: [2. 2. 2. 2. 2.]\n"
     ]
    }
   ],
   "source": [
    "t.add_(1)\n",
    "print(f\"t: {t}\")\n",
    "print(f\"n: {n}\")"
   ]
  },
  {
   "cell_type": "markdown",
   "id": "20a69128-2902-4b41-9bbf-35637544524d",
   "metadata": {},
   "source": [
    "### NumPy 배열을 텐서로 변환하기"
   ]
  },
  {
   "cell_type": "code",
   "execution_count": 23,
   "id": "1d055515-7d78-4f1d-be0d-7b903713277f",
   "metadata": {},
   "outputs": [],
   "source": [
    "n = np.ones(5)\n",
    "t = torch.from_numpy(n)"
   ]
  },
  {
   "cell_type": "code",
   "execution_count": 25,
   "id": "c9121f2e-a59b-46d3-963e-52d4a88ebf97",
   "metadata": {},
   "outputs": [
    {
     "name": "stdout",
     "output_type": "stream",
     "text": [
      "t: tensor([2., 2., 2., 2., 2.], dtype=torch.float64)\n",
      "n: [2. 2. 2. 2. 2.]\n"
     ]
    }
   ],
   "source": [
    "np.add(n, 1, out=n)\n",
    "print(f\"t: {t}\")\n",
    "print(f\"n: {n}\")"
   ]
  },
  {
   "cell_type": "code",
   "execution_count": null,
   "id": "b18b68e5-a1d9-40d9-be34-56c68219e6df",
   "metadata": {},
   "outputs": [],
   "source": []
  }
 ],
 "metadata": {
  "kernelspec": {
   "display_name": "Python 3 (ipykernel)",
   "language": "python",
   "name": "python3"
  },
  "language_info": {
   "codemirror_mode": {
    "name": "ipython",
    "version": 3
   },
   "file_extension": ".py",
   "mimetype": "text/x-python",
   "name": "python",
   "nbconvert_exporter": "python",
   "pygments_lexer": "ipython3",
   "version": "3.11.5"
  }
 },
 "nbformat": 4,
 "nbformat_minor": 5
}
